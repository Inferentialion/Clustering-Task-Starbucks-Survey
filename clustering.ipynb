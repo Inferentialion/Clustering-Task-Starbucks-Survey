{
 "metadata": {
  "language_info": {
   "codemirror_mode": {
    "name": "ipython",
    "version": 3
   },
   "file_extension": ".py",
   "mimetype": "text/x-python",
   "name": "python",
   "nbconvert_exporter": "python",
   "pygments_lexer": "ipython3",
   "version": "3.7.5-final"
  },
  "orig_nbformat": 2,
  "kernelspec": {
   "name": "python37564bit25e062aa03ee4b04940cab67131a8a1b",
   "display_name": "Python 3.7.5 64-bit"
  },
  "metadata": {
   "interpreter": {
    "hash": "9489069c007e8d63b41412796a166af75c2097e7466c7c4f5375b0640111fd50"
   }
  }
 },
 "nbformat": 4,
 "nbformat_minor": 2,
 "cells": [
  {
   "cell_type": "code",
   "execution_count": 52,
   "metadata": {},
   "outputs": [
    {
     "output_type": "execute_result",
     "data": {
      "text/plain": [
       "                      Timestamp 1. Your Gender    2. Your Age  \\\n",
       "0  2019/10/01 12:38:43 PM GMT+8         Female  From 20 to 29   \n",
       "1  2019/10/01 12:38:54 PM GMT+8         Female  From 20 to 29   \n",
       "2  2019/10/01 12:38:56 PM GMT+8           Male  From 20 to 29   \n",
       "3  2019/10/01 12:39:08 PM GMT+8         Female  From 20 to 29   \n",
       "4  2019/10/01 12:39:20 PM GMT+8           Male  From 20 to 29   \n",
       "\n",
       "  3. Are you currently....? 4. What is your annual income?  \\\n",
       "0                   Student             Less than RM25,000   \n",
       "1                   Student             Less than RM25,000   \n",
       "2                  Employed             Less than RM25,000   \n",
       "3                   Student             Less than RM25,000   \n",
       "4                   Student             Less than RM25,000   \n",
       "\n",
       "  5. How often do you visit Starbucks? 6. How do you usually enjoy Starbucks?  \\\n",
       "0                               Rarely                                Dine in   \n",
       "1                               Rarely                              Take away   \n",
       "2                              Monthly                                Dine in   \n",
       "3                               Rarely                              Take away   \n",
       "4                              Monthly                              Take away   \n",
       "\n",
       "  7. How much time do you normally  spend during your visit?  \\\n",
       "0                       Between 30 minutes to 1 hour           \n",
       "1                                   Below 30 minutes           \n",
       "2                       Between 30 minutes to 1 hour           \n",
       "3                                   Below 30 minutes           \n",
       "4                       Between 30 minutes to 1 hour           \n",
       "\n",
       "  8. The nearest Starbucks's outlet to you is...?  \\\n",
       "0                                      within 1km   \n",
       "1                                       1km - 3km   \n",
       "2                                   more than 3km   \n",
       "3                                   more than 3km   \n",
       "4                                       1km - 3km   \n",
       "\n",
       "  9. Do you have Starbucks membership card?  \\\n",
       "0                                       Yes   \n",
       "1                                       Yes   \n",
       "2                                       Yes   \n",
       "3                                        No   \n",
       "4                                        No   \n",
       "\n",
       "  10. What do you most frequently purchase at Starbucks?  \\\n",
       "0                                             Coffee       \n",
       "1                               Cold drinks;Pastries       \n",
       "2                                             Coffee       \n",
       "3                                             Coffee       \n",
       "4                                  Coffee;Sandwiches       \n",
       "\n",
       "  11. On average, how much would you spend at Starbucks per visit?  \\\n",
       "0                                     Less than RM20                 \n",
       "1                                     Less than RM20                 \n",
       "2                                     Less than RM20                 \n",
       "3                                     Less than RM20                 \n",
       "4                                 Around RM20 - RM40                 \n",
       "\n",
       "   12. How would you rate the quality of Starbucks compared to other brands (Coffee Bean, Old Town White Coffee..) to be:  \\\n",
       "0                                                  4                                                                        \n",
       "1                                                  4                                                                        \n",
       "2                                                  4                                                                        \n",
       "3                                                  2                                                                        \n",
       "4                                                  3                                                                        \n",
       "\n",
       "   13. How would you rate the price range at Starbucks?  \\\n",
       "0                                                  3      \n",
       "1                                                  3      \n",
       "2                                                  3      \n",
       "3                                                  1      \n",
       "4                                                  3      \n",
       "\n",
       "   14. How important are sales and promotions in your purchase decision?  \\\n",
       "0                                                  5                       \n",
       "1                                                  4                       \n",
       "2                                                  4                       \n",
       "3                                                  4                       \n",
       "4                                                  4                       \n",
       "\n",
       "   15. How would you rate the ambiance at Starbucks? (lighting, music, etc...)  \\\n",
       "0                                                  5                             \n",
       "1                                                  4                             \n",
       "2                                                  4                             \n",
       "3                                                  3                             \n",
       "4                                                  2                             \n",
       "\n",
       "   16. You rate the WiFi quality at Starbucks as..  \\\n",
       "0                                                4   \n",
       "1                                                4   \n",
       "2                                                4   \n",
       "3                                                3   \n",
       "4                                                2   \n",
       "\n",
       "   17. How would you rate the service at Starbucks? (Promptness, friendliness, etc..)  \\\n",
       "0                                                  4                                    \n",
       "1                                                  5                                    \n",
       "2                                                  4                                    \n",
       "3                                                  3                                    \n",
       "4                                                  3                                    \n",
       "\n",
       "   18. How likely you will choose Starbucks for doing business meetings or hangout with friends?  \\\n",
       "0                                                  3                                               \n",
       "1                                                  2                                               \n",
       "2                                                  3                                               \n",
       "3                                                  3                                               \n",
       "4                                                  3                                               \n",
       "\n",
       "  19. How do you come to hear of promotions at Starbucks? Check all that apply.  \\\n",
       "0  Starbucks Website/Apps;Social Media;Emails;Dea...                              \n",
       "1                     Social Media;In Store displays                              \n",
       "2                       In Store displays;Billboards                              \n",
       "3                  Through friends and word of mouth                              \n",
       "4                Starbucks Website/Apps;Social Media                              \n",
       "\n",
       "  20. Will you continue buying at Starbucks?  \n",
       "0                                        Yes  \n",
       "1                                        Yes  \n",
       "2                                        Yes  \n",
       "3                                         No  \n",
       "4                                        Yes  "
      ],
      "text/html": "<div>\n<style scoped>\n    .dataframe tbody tr th:only-of-type {\n        vertical-align: middle;\n    }\n\n    .dataframe tbody tr th {\n        vertical-align: top;\n    }\n\n    .dataframe thead th {\n        text-align: right;\n    }\n</style>\n<table border=\"1\" class=\"dataframe\">\n  <thead>\n    <tr style=\"text-align: right;\">\n      <th></th>\n      <th>Timestamp</th>\n      <th>1. Your Gender</th>\n      <th>2. Your Age</th>\n      <th>3. Are you currently....?</th>\n      <th>4. What is your annual income?</th>\n      <th>5. How often do you visit Starbucks?</th>\n      <th>6. How do you usually enjoy Starbucks?</th>\n      <th>7. How much time do you normally  spend during your visit?</th>\n      <th>8. The nearest Starbucks's outlet to you is...?</th>\n      <th>9. Do you have Starbucks membership card?</th>\n      <th>10. What do you most frequently purchase at Starbucks?</th>\n      <th>11. On average, how much would you spend at Starbucks per visit?</th>\n      <th>12. How would you rate the quality of Starbucks compared to other brands (Coffee Bean, Old Town White Coffee..) to be:</th>\n      <th>13. How would you rate the price range at Starbucks?</th>\n      <th>14. How important are sales and promotions in your purchase decision?</th>\n      <th>15. How would you rate the ambiance at Starbucks? (lighting, music, etc...)</th>\n      <th>16. You rate the WiFi quality at Starbucks as..</th>\n      <th>17. How would you rate the service at Starbucks? (Promptness, friendliness, etc..)</th>\n      <th>18. How likely you will choose Starbucks for doing business meetings or hangout with friends?</th>\n      <th>19. How do you come to hear of promotions at Starbucks? Check all that apply.</th>\n      <th>20. Will you continue buying at Starbucks?</th>\n    </tr>\n  </thead>\n  <tbody>\n    <tr>\n      <th>0</th>\n      <td>2019/10/01 12:38:43 PM GMT+8</td>\n      <td>Female</td>\n      <td>From 20 to 29</td>\n      <td>Student</td>\n      <td>Less than RM25,000</td>\n      <td>Rarely</td>\n      <td>Dine in</td>\n      <td>Between 30 minutes to 1 hour</td>\n      <td>within 1km</td>\n      <td>Yes</td>\n      <td>Coffee</td>\n      <td>Less than RM20</td>\n      <td>4</td>\n      <td>3</td>\n      <td>5</td>\n      <td>5</td>\n      <td>4</td>\n      <td>4</td>\n      <td>3</td>\n      <td>Starbucks Website/Apps;Social Media;Emails;Dea...</td>\n      <td>Yes</td>\n    </tr>\n    <tr>\n      <th>1</th>\n      <td>2019/10/01 12:38:54 PM GMT+8</td>\n      <td>Female</td>\n      <td>From 20 to 29</td>\n      <td>Student</td>\n      <td>Less than RM25,000</td>\n      <td>Rarely</td>\n      <td>Take away</td>\n      <td>Below 30 minutes</td>\n      <td>1km - 3km</td>\n      <td>Yes</td>\n      <td>Cold drinks;Pastries</td>\n      <td>Less than RM20</td>\n      <td>4</td>\n      <td>3</td>\n      <td>4</td>\n      <td>4</td>\n      <td>4</td>\n      <td>5</td>\n      <td>2</td>\n      <td>Social Media;In Store displays</td>\n      <td>Yes</td>\n    </tr>\n    <tr>\n      <th>2</th>\n      <td>2019/10/01 12:38:56 PM GMT+8</td>\n      <td>Male</td>\n      <td>From 20 to 29</td>\n      <td>Employed</td>\n      <td>Less than RM25,000</td>\n      <td>Monthly</td>\n      <td>Dine in</td>\n      <td>Between 30 minutes to 1 hour</td>\n      <td>more than 3km</td>\n      <td>Yes</td>\n      <td>Coffee</td>\n      <td>Less than RM20</td>\n      <td>4</td>\n      <td>3</td>\n      <td>4</td>\n      <td>4</td>\n      <td>4</td>\n      <td>4</td>\n      <td>3</td>\n      <td>In Store displays;Billboards</td>\n      <td>Yes</td>\n    </tr>\n    <tr>\n      <th>3</th>\n      <td>2019/10/01 12:39:08 PM GMT+8</td>\n      <td>Female</td>\n      <td>From 20 to 29</td>\n      <td>Student</td>\n      <td>Less than RM25,000</td>\n      <td>Rarely</td>\n      <td>Take away</td>\n      <td>Below 30 minutes</td>\n      <td>more than 3km</td>\n      <td>No</td>\n      <td>Coffee</td>\n      <td>Less than RM20</td>\n      <td>2</td>\n      <td>1</td>\n      <td>4</td>\n      <td>3</td>\n      <td>3</td>\n      <td>3</td>\n      <td>3</td>\n      <td>Through friends and word of mouth</td>\n      <td>No</td>\n    </tr>\n    <tr>\n      <th>4</th>\n      <td>2019/10/01 12:39:20 PM GMT+8</td>\n      <td>Male</td>\n      <td>From 20 to 29</td>\n      <td>Student</td>\n      <td>Less than RM25,000</td>\n      <td>Monthly</td>\n      <td>Take away</td>\n      <td>Between 30 minutes to 1 hour</td>\n      <td>1km - 3km</td>\n      <td>No</td>\n      <td>Coffee;Sandwiches</td>\n      <td>Around RM20 - RM40</td>\n      <td>3</td>\n      <td>3</td>\n      <td>4</td>\n      <td>2</td>\n      <td>2</td>\n      <td>3</td>\n      <td>3</td>\n      <td>Starbucks Website/Apps;Social Media</td>\n      <td>Yes</td>\n    </tr>\n  </tbody>\n</table>\n</div>"
     },
     "metadata": {},
     "execution_count": 52
    }
   ],
   "source": [
    "import pandas as pd\n",
    "import numpy as np\n",
    "\n",
    "pd.set_option('max_columns', 25)\n",
    "\n",
    "dataset = pd.read_csv('Best datasets candidates/Starbucks satisfactory survey.csv')\n",
    "\n",
    "dataset.head()"
   ]
  },
  {
   "cell_type": "code",
   "execution_count": 53,
   "metadata": {},
   "outputs": [
    {
     "output_type": "execute_result",
     "data": {
      "text/plain": [
       "(122, 21)"
      ]
     },
     "metadata": {},
     "execution_count": 53
    }
   ],
   "source": [
    "dataset.shape"
   ]
  },
  {
   "cell_type": "code",
   "execution_count": 54,
   "metadata": {},
   "outputs": [
    {
     "output_type": "stream",
     "name": "stdout",
     "text": [
      "<class 'pandas.core.frame.DataFrame'>\nRangeIndex: 122 entries, 0 to 121\nData columns (total 21 columns):\n #   Column                                                                                                                  Non-Null Count  Dtype \n---  ------                                                                                                                  --------------  ----- \n 0   Timestamp                                                                                                               122 non-null    object\n 1   1. Your Gender                                                                                                          122 non-null    object\n 2   2. Your Age                                                                                                             122 non-null    object\n 3   3. Are you currently....?                                                                                               122 non-null    object\n 4   4. What is your annual income?                                                                                          122 non-null    object\n 5   5. How often do you visit Starbucks?                                                                                    122 non-null    object\n 6   6. How do you usually enjoy Starbucks?                                                                                  121 non-null    object\n 7   7. How much time do you normally  spend during your visit?                                                              122 non-null    object\n 8   8. The nearest Starbucks's outlet to you is...?                                                                         122 non-null    object\n 9   9. Do you have Starbucks membership card?                                                                               122 non-null    object\n 10  10. What do you most frequently purchase at Starbucks?                                                                  122 non-null    object\n 11  11. On average, how much would you spend at Starbucks per visit?                                                        122 non-null    object\n 12  12. How would you rate the quality of Starbucks compared to other brands (Coffee Bean, Old Town White Coffee..) to be:  122 non-null    int64 \n 13  13. How would you rate the price range at Starbucks?                                                                    122 non-null    int64 \n 14  14. How important are sales and promotions in your purchase decision?                                                   122 non-null    int64 \n 15  15. How would you rate the ambiance at Starbucks? (lighting, music, etc...)                                             122 non-null    int64 \n 16  16. You rate the WiFi quality at Starbucks as..                                                                         122 non-null    int64 \n 17  17. How would you rate the service at Starbucks? (Promptness, friendliness, etc..)                                      122 non-null    int64 \n 18  18. How likely you will choose Starbucks for doing business meetings or hangout with friends?                           122 non-null    int64 \n 19  19. How do you come to hear of promotions at Starbucks? Check all that apply.                                           121 non-null    object\n 20  20. Will you continue buying at Starbucks?                                                                              122 non-null    object\ndtypes: int64(7), object(14)\nmemory usage: 20.1+ KB\n"
     ]
    }
   ],
   "source": [
    "dataset.info()"
   ]
  },
  {
   "source": [],
   "cell_type": "markdown",
   "metadata": {}
  },
  {
   "source": [
    "<h1>Exploratory Data Analysis"
   ],
   "cell_type": "markdown",
   "metadata": {}
  },
  {
   "source": [
    "<h3> Separating columns by dtype"
   ],
   "cell_type": "markdown",
   "metadata": {}
  },
  {
   "cell_type": "code",
   "execution_count": 55,
   "metadata": {},
   "outputs": [],
   "source": [
    "categorical = dataset.select_dtypes(include='object')\n",
    "numerical = dataset.select_dtypes(exclude='object')"
   ]
  },
  {
   "cell_type": "code",
   "execution_count": 56,
   "metadata": {},
   "outputs": [
    {
     "output_type": "execute_result",
     "data": {
      "text/plain": [
       "   12. How would you rate the quality of Starbucks compared to other brands (Coffee Bean, Old Town White Coffee..) to be:  \\\n",
       "0                                                  4                                                                        \n",
       "1                                                  4                                                                        \n",
       "2                                                  4                                                                        \n",
       "3                                                  2                                                                        \n",
       "4                                                  3                                                                        \n",
       "\n",
       "   13. How would you rate the price range at Starbucks?  \\\n",
       "0                                                  3      \n",
       "1                                                  3      \n",
       "2                                                  3      \n",
       "3                                                  1      \n",
       "4                                                  3      \n",
       "\n",
       "   14. How important are sales and promotions in your purchase decision?  \\\n",
       "0                                                  5                       \n",
       "1                                                  4                       \n",
       "2                                                  4                       \n",
       "3                                                  4                       \n",
       "4                                                  4                       \n",
       "\n",
       "   15. How would you rate the ambiance at Starbucks? (lighting, music, etc...)  \\\n",
       "0                                                  5                             \n",
       "1                                                  4                             \n",
       "2                                                  4                             \n",
       "3                                                  3                             \n",
       "4                                                  2                             \n",
       "\n",
       "   16. You rate the WiFi quality at Starbucks as..  \\\n",
       "0                                                4   \n",
       "1                                                4   \n",
       "2                                                4   \n",
       "3                                                3   \n",
       "4                                                2   \n",
       "\n",
       "   17. How would you rate the service at Starbucks? (Promptness, friendliness, etc..)  \\\n",
       "0                                                  4                                    \n",
       "1                                                  5                                    \n",
       "2                                                  4                                    \n",
       "3                                                  3                                    \n",
       "4                                                  3                                    \n",
       "\n",
       "   18. How likely you will choose Starbucks for doing business meetings or hangout with friends?  \n",
       "0                                                  3                                              \n",
       "1                                                  2                                              \n",
       "2                                                  3                                              \n",
       "3                                                  3                                              \n",
       "4                                                  3                                              "
      ],
      "text/html": "<div>\n<style scoped>\n    .dataframe tbody tr th:only-of-type {\n        vertical-align: middle;\n    }\n\n    .dataframe tbody tr th {\n        vertical-align: top;\n    }\n\n    .dataframe thead th {\n        text-align: right;\n    }\n</style>\n<table border=\"1\" class=\"dataframe\">\n  <thead>\n    <tr style=\"text-align: right;\">\n      <th></th>\n      <th>12. How would you rate the quality of Starbucks compared to other brands (Coffee Bean, Old Town White Coffee..) to be:</th>\n      <th>13. How would you rate the price range at Starbucks?</th>\n      <th>14. How important are sales and promotions in your purchase decision?</th>\n      <th>15. How would you rate the ambiance at Starbucks? (lighting, music, etc...)</th>\n      <th>16. You rate the WiFi quality at Starbucks as..</th>\n      <th>17. How would you rate the service at Starbucks? (Promptness, friendliness, etc..)</th>\n      <th>18. How likely you will choose Starbucks for doing business meetings or hangout with friends?</th>\n    </tr>\n  </thead>\n  <tbody>\n    <tr>\n      <th>0</th>\n      <td>4</td>\n      <td>3</td>\n      <td>5</td>\n      <td>5</td>\n      <td>4</td>\n      <td>4</td>\n      <td>3</td>\n    </tr>\n    <tr>\n      <th>1</th>\n      <td>4</td>\n      <td>3</td>\n      <td>4</td>\n      <td>4</td>\n      <td>4</td>\n      <td>5</td>\n      <td>2</td>\n    </tr>\n    <tr>\n      <th>2</th>\n      <td>4</td>\n      <td>3</td>\n      <td>4</td>\n      <td>4</td>\n      <td>4</td>\n      <td>4</td>\n      <td>3</td>\n    </tr>\n    <tr>\n      <th>3</th>\n      <td>2</td>\n      <td>1</td>\n      <td>4</td>\n      <td>3</td>\n      <td>3</td>\n      <td>3</td>\n      <td>3</td>\n    </tr>\n    <tr>\n      <th>4</th>\n      <td>3</td>\n      <td>3</td>\n      <td>4</td>\n      <td>2</td>\n      <td>2</td>\n      <td>3</td>\n      <td>3</td>\n    </tr>\n  </tbody>\n</table>\n</div>"
     },
     "metadata": {},
     "execution_count": 56
    }
   ],
   "source": [
    "numerical.head()  # ---> as we can see is ordered data; they also seem to be on the same scale, so no need for scaling"
   ]
  },
  {
   "cell_type": "code",
   "execution_count": 57,
   "metadata": {},
   "outputs": [
    {
     "output_type": "stream",
     "name": "stdout",
     "text": [
      "(122, 14) \n\n"
     ]
    },
    {
     "output_type": "execute_result",
     "data": {
      "text/plain": [
       "                      Timestamp 1. Your Gender    2. Your Age  \\\n",
       "0  2019/10/01 12:38:43 PM GMT+8         Female  From 20 to 29   \n",
       "1  2019/10/01 12:38:54 PM GMT+8         Female  From 20 to 29   \n",
       "2  2019/10/01 12:38:56 PM GMT+8           Male  From 20 to 29   \n",
       "3  2019/10/01 12:39:08 PM GMT+8         Female  From 20 to 29   \n",
       "4  2019/10/01 12:39:20 PM GMT+8           Male  From 20 to 29   \n",
       "\n",
       "  3. Are you currently....? 4. What is your annual income?  \\\n",
       "0                   Student             Less than RM25,000   \n",
       "1                   Student             Less than RM25,000   \n",
       "2                  Employed             Less than RM25,000   \n",
       "3                   Student             Less than RM25,000   \n",
       "4                   Student             Less than RM25,000   \n",
       "\n",
       "  5. How often do you visit Starbucks? 6. How do you usually enjoy Starbucks?  \\\n",
       "0                               Rarely                                Dine in   \n",
       "1                               Rarely                              Take away   \n",
       "2                              Monthly                                Dine in   \n",
       "3                               Rarely                              Take away   \n",
       "4                              Monthly                              Take away   \n",
       "\n",
       "  7. How much time do you normally  spend during your visit?  \\\n",
       "0                       Between 30 minutes to 1 hour           \n",
       "1                                   Below 30 minutes           \n",
       "2                       Between 30 minutes to 1 hour           \n",
       "3                                   Below 30 minutes           \n",
       "4                       Between 30 minutes to 1 hour           \n",
       "\n",
       "  8. The nearest Starbucks's outlet to you is...?  \\\n",
       "0                                      within 1km   \n",
       "1                                       1km - 3km   \n",
       "2                                   more than 3km   \n",
       "3                                   more than 3km   \n",
       "4                                       1km - 3km   \n",
       "\n",
       "  9. Do you have Starbucks membership card?  \\\n",
       "0                                       Yes   \n",
       "1                                       Yes   \n",
       "2                                       Yes   \n",
       "3                                        No   \n",
       "4                                        No   \n",
       "\n",
       "  10. What do you most frequently purchase at Starbucks?  \\\n",
       "0                                             Coffee       \n",
       "1                               Cold drinks;Pastries       \n",
       "2                                             Coffee       \n",
       "3                                             Coffee       \n",
       "4                                  Coffee;Sandwiches       \n",
       "\n",
       "  11. On average, how much would you spend at Starbucks per visit?  \\\n",
       "0                                     Less than RM20                 \n",
       "1                                     Less than RM20                 \n",
       "2                                     Less than RM20                 \n",
       "3                                     Less than RM20                 \n",
       "4                                 Around RM20 - RM40                 \n",
       "\n",
       "  19. How do you come to hear of promotions at Starbucks? Check all that apply.  \\\n",
       "0  Starbucks Website/Apps;Social Media;Emails;Dea...                              \n",
       "1                     Social Media;In Store displays                              \n",
       "2                       In Store displays;Billboards                              \n",
       "3                  Through friends and word of mouth                              \n",
       "4                Starbucks Website/Apps;Social Media                              \n",
       "\n",
       "  20. Will you continue buying at Starbucks?  \n",
       "0                                        Yes  \n",
       "1                                        Yes  \n",
       "2                                        Yes  \n",
       "3                                         No  \n",
       "4                                        Yes  "
      ],
      "text/html": "<div>\n<style scoped>\n    .dataframe tbody tr th:only-of-type {\n        vertical-align: middle;\n    }\n\n    .dataframe tbody tr th {\n        vertical-align: top;\n    }\n\n    .dataframe thead th {\n        text-align: right;\n    }\n</style>\n<table border=\"1\" class=\"dataframe\">\n  <thead>\n    <tr style=\"text-align: right;\">\n      <th></th>\n      <th>Timestamp</th>\n      <th>1. Your Gender</th>\n      <th>2. Your Age</th>\n      <th>3. Are you currently....?</th>\n      <th>4. What is your annual income?</th>\n      <th>5. How often do you visit Starbucks?</th>\n      <th>6. How do you usually enjoy Starbucks?</th>\n      <th>7. How much time do you normally  spend during your visit?</th>\n      <th>8. The nearest Starbucks's outlet to you is...?</th>\n      <th>9. Do you have Starbucks membership card?</th>\n      <th>10. What do you most frequently purchase at Starbucks?</th>\n      <th>11. On average, how much would you spend at Starbucks per visit?</th>\n      <th>19. How do you come to hear of promotions at Starbucks? Check all that apply.</th>\n      <th>20. Will you continue buying at Starbucks?</th>\n    </tr>\n  </thead>\n  <tbody>\n    <tr>\n      <th>0</th>\n      <td>2019/10/01 12:38:43 PM GMT+8</td>\n      <td>Female</td>\n      <td>From 20 to 29</td>\n      <td>Student</td>\n      <td>Less than RM25,000</td>\n      <td>Rarely</td>\n      <td>Dine in</td>\n      <td>Between 30 minutes to 1 hour</td>\n      <td>within 1km</td>\n      <td>Yes</td>\n      <td>Coffee</td>\n      <td>Less than RM20</td>\n      <td>Starbucks Website/Apps;Social Media;Emails;Dea...</td>\n      <td>Yes</td>\n    </tr>\n    <tr>\n      <th>1</th>\n      <td>2019/10/01 12:38:54 PM GMT+8</td>\n      <td>Female</td>\n      <td>From 20 to 29</td>\n      <td>Student</td>\n      <td>Less than RM25,000</td>\n      <td>Rarely</td>\n      <td>Take away</td>\n      <td>Below 30 minutes</td>\n      <td>1km - 3km</td>\n      <td>Yes</td>\n      <td>Cold drinks;Pastries</td>\n      <td>Less than RM20</td>\n      <td>Social Media;In Store displays</td>\n      <td>Yes</td>\n    </tr>\n    <tr>\n      <th>2</th>\n      <td>2019/10/01 12:38:56 PM GMT+8</td>\n      <td>Male</td>\n      <td>From 20 to 29</td>\n      <td>Employed</td>\n      <td>Less than RM25,000</td>\n      <td>Monthly</td>\n      <td>Dine in</td>\n      <td>Between 30 minutes to 1 hour</td>\n      <td>more than 3km</td>\n      <td>Yes</td>\n      <td>Coffee</td>\n      <td>Less than RM20</td>\n      <td>In Store displays;Billboards</td>\n      <td>Yes</td>\n    </tr>\n    <tr>\n      <th>3</th>\n      <td>2019/10/01 12:39:08 PM GMT+8</td>\n      <td>Female</td>\n      <td>From 20 to 29</td>\n      <td>Student</td>\n      <td>Less than RM25,000</td>\n      <td>Rarely</td>\n      <td>Take away</td>\n      <td>Below 30 minutes</td>\n      <td>more than 3km</td>\n      <td>No</td>\n      <td>Coffee</td>\n      <td>Less than RM20</td>\n      <td>Through friends and word of mouth</td>\n      <td>No</td>\n    </tr>\n    <tr>\n      <th>4</th>\n      <td>2019/10/01 12:39:20 PM GMT+8</td>\n      <td>Male</td>\n      <td>From 20 to 29</td>\n      <td>Student</td>\n      <td>Less than RM25,000</td>\n      <td>Monthly</td>\n      <td>Take away</td>\n      <td>Between 30 minutes to 1 hour</td>\n      <td>1km - 3km</td>\n      <td>No</td>\n      <td>Coffee;Sandwiches</td>\n      <td>Around RM20 - RM40</td>\n      <td>Starbucks Website/Apps;Social Media</td>\n      <td>Yes</td>\n    </tr>\n  </tbody>\n</table>\n</div>"
     },
     "metadata": {},
     "execution_count": 57
    }
   ],
   "source": [
    "print(categorical.shape, \"\\n\")\n",
    "\n",
    "categorical.head()"
   ]
  },
  {
   "cell_type": "code",
   "execution_count": 58,
   "metadata": {},
   "outputs": [],
   "source": [
    "# Thus ordinal columns are:\n",
    "# 4, 8, 11 in both original dataset and categorical"
   ]
  },
  {
   "source": [
    "<h3>Missing values"
   ],
   "cell_type": "markdown",
   "metadata": {}
  },
  {
   "cell_type": "code",
   "execution_count": 59,
   "metadata": {},
   "outputs": [
    {
     "output_type": "execute_result",
     "data": {
      "text/plain": [
       "Timestamp                                                                                                                 0\n",
       "1. Your Gender                                                                                                            0\n",
       "2. Your Age                                                                                                               0\n",
       "3. Are you currently....?                                                                                                 0\n",
       "4. What is your annual income?                                                                                            0\n",
       "5. How often do you visit Starbucks?                                                                                      0\n",
       "6. How do you usually enjoy Starbucks?                                                                                    1\n",
       "7. How much time do you normally  spend during your visit?                                                                0\n",
       "8. The nearest Starbucks's outlet to you is...?                                                                           0\n",
       "9. Do you have Starbucks membership card?                                                                                 0\n",
       "10. What do you most frequently purchase at Starbucks?                                                                    0\n",
       "11. On average, how much would you spend at Starbucks per visit?                                                          0\n",
       "12. How would you rate the quality of Starbucks compared to other brands (Coffee Bean, Old Town White Coffee..) to be:    0\n",
       "13. How would you rate the price range at Starbucks?                                                                      0\n",
       "14. How important are sales and promotions in your purchase decision?                                                     0\n",
       "15. How would you rate the ambiance at Starbucks? (lighting, music, etc...)                                               0\n",
       "16. You rate the WiFi quality at Starbucks as..                                                                           0\n",
       "17. How would you rate the service at Starbucks? (Promptness, friendliness, etc..)                                        0\n",
       "18. How likely you will choose Starbucks for doing business meetings or hangout with friends?                             0\n",
       "19. How do you come to hear of promotions at Starbucks? Check all that apply.                                             1\n",
       "20. Will you continue buying at Starbucks?                                                                                0\n",
       "dtype: int64"
      ]
     },
     "metadata": {},
     "execution_count": 59
    }
   ],
   "source": [
    "dataset.isnull().sum()"
   ]
  },
  {
   "source": [
    "<h1>Data Preprocessing"
   ],
   "cell_type": "markdown",
   "metadata": {}
  },
  {
   "cell_type": "code",
   "execution_count": 60,
   "metadata": {},
   "outputs": [],
   "source": [
    "# Encoding of categorical variables imports:\n",
    "from sklearn.preprocessing import OrdinalEncoder, OneHotEncoder\n",
    "from sklearn.compose import ColumnTransformer\n",
    "# Imputation of missing values imports:\n",
    "from sklearn.impute import SimpleImputer\n",
    "# General imports:\n",
    "from sklearn.pipeline import Pipeline"
   ]
  },
  {
   "source": [
    "<h3> Simplifying the dataset"
   ],
   "cell_type": "markdown",
   "metadata": {}
  },
  {
   "cell_type": "code",
   "execution_count": 61,
   "metadata": {},
   "outputs": [
    {
     "output_type": "execute_result",
     "data": {
      "text/plain": [
       "                      timestamp  gender            age working_or_studying  \\\n",
       "0  2019/10/01 12:38:43 PM GMT+8  Female  From 20 to 29             Student   \n",
       "1  2019/10/01 12:38:54 PM GMT+8  Female  From 20 to 29             Student   \n",
       "2  2019/10/01 12:38:56 PM GMT+8    Male  From 20 to 29            Employed   \n",
       "3  2019/10/01 12:39:08 PM GMT+8  Female  From 20 to 29             Student   \n",
       "4  2019/10/01 12:39:20 PM GMT+8    Male  From 20 to 29             Student   \n",
       "\n",
       "        yearly_income visit_frequence how_do_you_ussually_enjoy_starbucks  \\\n",
       "0  Less than RM25,000          Rarely                             Dine in   \n",
       "1  Less than RM25,000          Rarely                           Take away   \n",
       "2  Less than RM25,000         Monthly                             Dine in   \n",
       "3  Less than RM25,000          Rarely                           Take away   \n",
       "4  Less than RM25,000         Monthly                           Take away   \n",
       "\n",
       "                 duration_visit nearest_starbucks membership  \\\n",
       "0  Between 30 minutes to 1 hour        within 1km        Yes   \n",
       "1              Below 30 minutes         1km - 3km        Yes   \n",
       "2  Between 30 minutes to 1 hour     more than 3km        Yes   \n",
       "3              Below 30 minutes     more than 3km         No   \n",
       "4  Between 30 minutes to 1 hour         1km - 3km         No   \n",
       "\n",
       "         most_purchased       average_spend  rate_quality_vs_competition  \\\n",
       "0                Coffee      Less than RM20                            4   \n",
       "1  Cold drinks;Pastries      Less than RM20                            4   \n",
       "2                Coffee      Less than RM20                            4   \n",
       "3                Coffee      Less than RM20                            2   \n",
       "4     Coffee;Sandwiches  Around RM20 - RM40                            3   \n",
       "\n",
       "   rate_price_range  rate_promotions_importance  rate_store_ambience  \\\n",
       "0                 3                           5                    5   \n",
       "1                 3                           4                    4   \n",
       "2                 3                           4                    4   \n",
       "3                 1                           4                    3   \n",
       "4                 3                           4                    2   \n",
       "\n",
       "   rate_wifi  rate_service  likely_meet_on_store  \\\n",
       "0          4             4                     3   \n",
       "1          4             5                     2   \n",
       "2          4             4                     3   \n",
       "3          3             3                     3   \n",
       "4          2             3                     3   \n",
       "\n",
       "                           where_find_our_promotions will_keep_buying  \n",
       "0  Starbucks Website/Apps;Social Media;Emails;Dea...              Yes  \n",
       "1                     Social Media;In Store displays              Yes  \n",
       "2                       In Store displays;Billboards              Yes  \n",
       "3                  Through friends and word of mouth               No  \n",
       "4                Starbucks Website/Apps;Social Media              Yes  "
      ],
      "text/html": "<div>\n<style scoped>\n    .dataframe tbody tr th:only-of-type {\n        vertical-align: middle;\n    }\n\n    .dataframe tbody tr th {\n        vertical-align: top;\n    }\n\n    .dataframe thead th {\n        text-align: right;\n    }\n</style>\n<table border=\"1\" class=\"dataframe\">\n  <thead>\n    <tr style=\"text-align: right;\">\n      <th></th>\n      <th>timestamp</th>\n      <th>gender</th>\n      <th>age</th>\n      <th>working_or_studying</th>\n      <th>yearly_income</th>\n      <th>visit_frequence</th>\n      <th>how_do_you_ussually_enjoy_starbucks</th>\n      <th>duration_visit</th>\n      <th>nearest_starbucks</th>\n      <th>membership</th>\n      <th>most_purchased</th>\n      <th>average_spend</th>\n      <th>rate_quality_vs_competition</th>\n      <th>rate_price_range</th>\n      <th>rate_promotions_importance</th>\n      <th>rate_store_ambience</th>\n      <th>rate_wifi</th>\n      <th>rate_service</th>\n      <th>likely_meet_on_store</th>\n      <th>where_find_our_promotions</th>\n      <th>will_keep_buying</th>\n    </tr>\n  </thead>\n  <tbody>\n    <tr>\n      <th>0</th>\n      <td>2019/10/01 12:38:43 PM GMT+8</td>\n      <td>Female</td>\n      <td>From 20 to 29</td>\n      <td>Student</td>\n      <td>Less than RM25,000</td>\n      <td>Rarely</td>\n      <td>Dine in</td>\n      <td>Between 30 minutes to 1 hour</td>\n      <td>within 1km</td>\n      <td>Yes</td>\n      <td>Coffee</td>\n      <td>Less than RM20</td>\n      <td>4</td>\n      <td>3</td>\n      <td>5</td>\n      <td>5</td>\n      <td>4</td>\n      <td>4</td>\n      <td>3</td>\n      <td>Starbucks Website/Apps;Social Media;Emails;Dea...</td>\n      <td>Yes</td>\n    </tr>\n    <tr>\n      <th>1</th>\n      <td>2019/10/01 12:38:54 PM GMT+8</td>\n      <td>Female</td>\n      <td>From 20 to 29</td>\n      <td>Student</td>\n      <td>Less than RM25,000</td>\n      <td>Rarely</td>\n      <td>Take away</td>\n      <td>Below 30 minutes</td>\n      <td>1km - 3km</td>\n      <td>Yes</td>\n      <td>Cold drinks;Pastries</td>\n      <td>Less than RM20</td>\n      <td>4</td>\n      <td>3</td>\n      <td>4</td>\n      <td>4</td>\n      <td>4</td>\n      <td>5</td>\n      <td>2</td>\n      <td>Social Media;In Store displays</td>\n      <td>Yes</td>\n    </tr>\n    <tr>\n      <th>2</th>\n      <td>2019/10/01 12:38:56 PM GMT+8</td>\n      <td>Male</td>\n      <td>From 20 to 29</td>\n      <td>Employed</td>\n      <td>Less than RM25,000</td>\n      <td>Monthly</td>\n      <td>Dine in</td>\n      <td>Between 30 minutes to 1 hour</td>\n      <td>more than 3km</td>\n      <td>Yes</td>\n      <td>Coffee</td>\n      <td>Less than RM20</td>\n      <td>4</td>\n      <td>3</td>\n      <td>4</td>\n      <td>4</td>\n      <td>4</td>\n      <td>4</td>\n      <td>3</td>\n      <td>In Store displays;Billboards</td>\n      <td>Yes</td>\n    </tr>\n    <tr>\n      <th>3</th>\n      <td>2019/10/01 12:39:08 PM GMT+8</td>\n      <td>Female</td>\n      <td>From 20 to 29</td>\n      <td>Student</td>\n      <td>Less than RM25,000</td>\n      <td>Rarely</td>\n      <td>Take away</td>\n      <td>Below 30 minutes</td>\n      <td>more than 3km</td>\n      <td>No</td>\n      <td>Coffee</td>\n      <td>Less than RM20</td>\n      <td>2</td>\n      <td>1</td>\n      <td>4</td>\n      <td>3</td>\n      <td>3</td>\n      <td>3</td>\n      <td>3</td>\n      <td>Through friends and word of mouth</td>\n      <td>No</td>\n    </tr>\n    <tr>\n      <th>4</th>\n      <td>2019/10/01 12:39:20 PM GMT+8</td>\n      <td>Male</td>\n      <td>From 20 to 29</td>\n      <td>Student</td>\n      <td>Less than RM25,000</td>\n      <td>Monthly</td>\n      <td>Take away</td>\n      <td>Between 30 minutes to 1 hour</td>\n      <td>1km - 3km</td>\n      <td>No</td>\n      <td>Coffee;Sandwiches</td>\n      <td>Around RM20 - RM40</td>\n      <td>3</td>\n      <td>3</td>\n      <td>4</td>\n      <td>2</td>\n      <td>2</td>\n      <td>3</td>\n      <td>3</td>\n      <td>Starbucks Website/Apps;Social Media</td>\n      <td>Yes</td>\n    </tr>\n  </tbody>\n</table>\n</div>"
     },
     "metadata": {},
     "execution_count": 61
    }
   ],
   "source": [
    "new_names = ['timestamp', 'gender', 'age', 'working_or_studying', 'yearly_income', 'visit_frequence', 'how_do_you_ussually_enjoy_starbucks', 'duration_visit', 'nearest_starbucks', 'membership', 'most_purchased', 'average_spend', 'rate_quality_vs_competition', 'rate_price_range', 'rate_promotions_importance', 'rate_store_ambience', 'rate_wifi', 'rate_service', 'likely_meet_on_store', 'where_find_our_promotions', 'will_keep_buying']\n",
    "\n",
    "# assign the new column names to the dataset:\n",
    "dataset.columns = new_names\n",
    "\n",
    "dataset.head()"
   ]
  },
  {
   "cell_type": "code",
   "execution_count": 62,
   "metadata": {},
   "outputs": [],
   "source": [
    "# Getting new categorical and numerical, renamed columns:\n",
    "categorical = dataset.select_dtypes(include='object')\n",
    "numerical = dataset.select_dtypes(exclude='object')"
   ]
  },
  {
   "cell_type": "code",
   "execution_count": 63,
   "metadata": {},
   "outputs": [
    {
     "output_type": "execute_result",
     "data": {
      "text/plain": [
       "        yearly_income nearest_starbucks       average_spend\n",
       "0  Less than RM25,000        within 1km      Less than RM20\n",
       "1  Less than RM25,000         1km - 3km      Less than RM20\n",
       "2  Less than RM25,000     more than 3km      Less than RM20\n",
       "3  Less than RM25,000     more than 3km      Less than RM20\n",
       "4  Less than RM25,000         1km - 3km  Around RM20 - RM40"
      ],
      "text/html": "<div>\n<style scoped>\n    .dataframe tbody tr th:only-of-type {\n        vertical-align: middle;\n    }\n\n    .dataframe tbody tr th {\n        vertical-align: top;\n    }\n\n    .dataframe thead th {\n        text-align: right;\n    }\n</style>\n<table border=\"1\" class=\"dataframe\">\n  <thead>\n    <tr style=\"text-align: right;\">\n      <th></th>\n      <th>yearly_income</th>\n      <th>nearest_starbucks</th>\n      <th>average_spend</th>\n    </tr>\n  </thead>\n  <tbody>\n    <tr>\n      <th>0</th>\n      <td>Less than RM25,000</td>\n      <td>within 1km</td>\n      <td>Less than RM20</td>\n    </tr>\n    <tr>\n      <th>1</th>\n      <td>Less than RM25,000</td>\n      <td>1km - 3km</td>\n      <td>Less than RM20</td>\n    </tr>\n    <tr>\n      <th>2</th>\n      <td>Less than RM25,000</td>\n      <td>more than 3km</td>\n      <td>Less than RM20</td>\n    </tr>\n    <tr>\n      <th>3</th>\n      <td>Less than RM25,000</td>\n      <td>more than 3km</td>\n      <td>Less than RM20</td>\n    </tr>\n    <tr>\n      <th>4</th>\n      <td>Less than RM25,000</td>\n      <td>1km - 3km</td>\n      <td>Around RM20 - RM40</td>\n    </tr>\n  </tbody>\n</table>\n</div>"
     },
     "metadata": {},
     "execution_count": 63
    }
   ],
   "source": [
    "# Getting ordinal and nominal categorical columns after renaming dataset:\n",
    "categorical_ordinal = categorical.iloc[:, [4, 8, 11]]\n",
    "\n",
    "categorical_nominal = categorical[categorical.columns.difference(categorical_ordinal)]\n",
    "\n",
    "categorical_ordinal.head()"
   ]
  },
  {
   "cell_type": "code",
   "execution_count": 64,
   "metadata": {},
   "outputs": [
    {
     "output_type": "stream",
     "name": "stdout",
     "text": [
      "0\n"
     ]
    }
   ],
   "source": [
    "# Check if there is any duplicated row:\n",
    "print(dataset.duplicated().sum())"
   ]
  },
  {
   "source": [
    "<h3>Categorical Encoding"
   ],
   "cell_type": "markdown",
   "metadata": {}
  },
  {
   "cell_type": "code",
   "execution_count": 65,
   "metadata": {},
   "outputs": [
    {
     "output_type": "execute_result",
     "data": {
      "text/plain": [
       "ColumnTransformer(remainder='passthrough',\n",
       "                  transformers=[('categorical_nominal',\n",
       "                                 OneHotEncoder(handle_unknown='ignore',\n",
       "                                               sparse=False),\n",
       "                                 Index(['age', 'average_spend', 'duration_visit', 'gender',\n",
       "       'how_do_you_ussually_enjoy_starbucks', 'membership', 'most_purchased',\n",
       "       'nearest_starbucks', 'timestamp', 'visit_frequence',\n",
       "       'where_find_our_promotions', 'will_keep_buying', 'working_or_studying',\n",
       "       'yearly_income'],\n",
       "      dtype='object')),\n",
       "                                ('categorical_ordinal', OrdinalEncoder(),\n",
       "                                 Index(['yearly_income', 'nearest_starbucks', 'average_spend'], dtype='object'))])"
      ]
     },
     "metadata": {},
     "execution_count": 65
    }
   ],
   "source": [
    "preprocessing_ct = ColumnTransformer([\n",
    "    ('categorical_nominal', OneHotEncoder(sparse=False, handle_unknown='ignore'), categorical_nominal.columns),\n",
    "    ('categorical_ordinal', OrdinalEncoder(), categorical_ordinal.columns)],\n",
    "    \n",
    "    remainder='passthrough'\n",
    ")\n",
    "\n",
    "preprocessing_ct"
   ]
  },
  {
   "source": [
    "<h3>Handling missing values"
   ],
   "cell_type": "markdown",
   "metadata": {}
  },
  {
   "cell_type": "code",
   "execution_count": 66,
   "metadata": {},
   "outputs": [
    {
     "output_type": "execute_result",
     "data": {
      "text/plain": [
       "  how_do_you_ussually_enjoy_starbucks  \\\n",
       "0                             Dine in   \n",
       "1                           Take away   \n",
       "2                             Dine in   \n",
       "3                           Take away   \n",
       "4                           Take away   \n",
       "\n",
       "                           where_find_our_promotions  \n",
       "0  Starbucks Website/Apps;Social Media;Emails;Dea...  \n",
       "1                     Social Media;In Store displays  \n",
       "2                       In Store displays;Billboards  \n",
       "3                  Through friends and word of mouth  \n",
       "4                Starbucks Website/Apps;Social Media  "
      ],
      "text/html": "<div>\n<style scoped>\n    .dataframe tbody tr th:only-of-type {\n        vertical-align: middle;\n    }\n\n    .dataframe tbody tr th {\n        vertical-align: top;\n    }\n\n    .dataframe thead th {\n        text-align: right;\n    }\n</style>\n<table border=\"1\" class=\"dataframe\">\n  <thead>\n    <tr style=\"text-align: right;\">\n      <th></th>\n      <th>how_do_you_ussually_enjoy_starbucks</th>\n      <th>where_find_our_promotions</th>\n    </tr>\n  </thead>\n  <tbody>\n    <tr>\n      <th>0</th>\n      <td>Dine in</td>\n      <td>Starbucks Website/Apps;Social Media;Emails;Dea...</td>\n    </tr>\n    <tr>\n      <th>1</th>\n      <td>Take away</td>\n      <td>Social Media;In Store displays</td>\n    </tr>\n    <tr>\n      <th>2</th>\n      <td>Dine in</td>\n      <td>In Store displays;Billboards</td>\n    </tr>\n    <tr>\n      <th>3</th>\n      <td>Take away</td>\n      <td>Through friends and word of mouth</td>\n    </tr>\n    <tr>\n      <th>4</th>\n      <td>Take away</td>\n      <td>Starbucks Website/Apps;Social Media</td>\n    </tr>\n  </tbody>\n</table>\n</div>"
     },
     "metadata": {},
     "execution_count": 66
    }
   ],
   "source": [
    "# Get columns with missing values:\n",
    "mask = (dataset.isnull().sum() != 0).values\n",
    "columns_missing_values = dataset.loc[:, mask]\n",
    "\n",
    "columns_missing_values.head()"
   ]
  },
  {
   "source": [
    "<h3>PCA/MCA"
   ],
   "cell_type": "markdown",
   "metadata": {}
  },
  {
   "source": [
    "<h3>Preprocessing Pipeline"
   ],
   "cell_type": "markdown",
   "metadata": {}
  },
  {
   "cell_type": "code",
   "execution_count": 67,
   "metadata": {},
   "outputs": [],
   "source": [
    "preprocessing_pipeline = Pipeline([\n",
    "    ('preprocessing_ct', preprocessing_ct),\n",
    "    ('imputation', SimpleImputer(strategy='median'))\n",
    "])"
   ]
  },
  {
   "source": [
    "<h1>Model Selection"
   ],
   "cell_type": "markdown",
   "metadata": {}
  },
  {
   "source": [
    "<h3> Centroid clustering"
   ],
   "cell_type": "markdown",
   "metadata": {}
  },
  {
   "cell_type": "code",
   "execution_count": 68,
   "metadata": {},
   "outputs": [
    {
     "output_type": "execute_result",
     "data": {
      "text/plain": [
       "array([0, 0, 3, 1, 5, 1, 2, 7, 0, 5, 1, 1, 0, 0, 0, 0, 2, 0, 2, 0, 2, 6,\n",
       "       1, 0, 3, 3, 0, 5, 2, 7, 3, 2, 2, 7, 0, 1, 0, 1, 0, 2, 0, 2, 2, 5,\n",
       "       4, 0, 5, 1, 0, 6, 3, 1, 5, 6, 2, 0, 6, 7, 4, 1, 7, 6, 5, 0, 4, 1,\n",
       "       3, 4, 1, 7, 0, 2, 0, 0, 6, 0, 0, 3, 1, 1, 6, 4, 7, 7, 3, 3, 3, 6,\n",
       "       0, 7, 3, 2, 4, 0, 2, 7, 0, 6, 0, 0, 6, 1, 3, 3, 1, 3, 5, 4, 4, 4,\n",
       "       4, 0, 4, 1, 1, 5, 5, 3, 7, 1, 0, 7], dtype=uint16)"
      ]
     },
     "metadata": {},
     "execution_count": 68
    }
   ],
   "source": [
    "from kmodes.kmodes import KModes  # We will be using K-modes, a similar approach than k-means but better suitted for categorical data\n",
    "\n",
    "\n",
    "model_pipeline = Pipeline([\n",
    "    ('preprocessing_pipeline', preprocessing_pipeline),\n",
    "    ('model', KModes())\n",
    "])\n",
    "\n",
    "# Try gridsearch maybe for number of clusters.\n",
    "\n",
    "clusters = model_pipeline.fit_predict(dataset)  # Remember, no data split as we are in an unsupervised learning approach.\n",
    "\n",
    "model_pipeline.named_steps['model'].labels_"
   ]
  },
  {
   "cell_type": "code",
   "execution_count": 69,
   "metadata": {},
   "outputs": [],
   "source": [
    "# try to represent clusters (will need dim reduction)"
   ]
  },
  {
   "source": [
    "<h3>Hierarchical clustering"
   ],
   "cell_type": "markdown",
   "metadata": {}
  },
  {
   "cell_type": "code",
   "execution_count": 70,
   "metadata": {},
   "outputs": [
    {
     "output_type": "stream",
     "name": "stdout",
     "text": [
      "Number of clusters found:\n"
     ]
    },
    {
     "output_type": "execute_result",
     "data": {
      "text/plain": [
       "array([2, 2, 2, 3, 5, 2, 4, 0, 2, 6, 2, 2, 6, 2, 2, 2, 0, 2, 1, 0, 0, 6,\n",
       "       0, 2, 1, 6, 2, 6, 4, 1, 0, 0, 1, 0, 0, 3, 2, 2, 6, 0, 1, 4, 0, 6,\n",
       "       7, 0, 2, 3, 0, 5, 1, 3, 4, 5, 1, 0, 6, 4, 5, 2, 3, 6, 5, 2, 3, 2,\n",
       "       1, 7, 3, 0, 2, 0, 2, 2, 0, 1, 2, 0, 3, 3, 0, 7, 1, 0, 0, 1, 5, 6,\n",
       "       1, 1, 1, 1, 0, 2, 0, 0, 6, 6, 0, 2, 5, 5, 0, 1, 2, 1, 5, 7, 7, 3,\n",
       "       3, 6, 7, 2, 5, 4, 2, 1, 4, 2, 2, 0], dtype=int64)"
      ]
     },
     "metadata": {},
     "execution_count": 70
    }
   ],
   "source": [
    "from sklearn.cluster import AgglomerativeClustering\n",
    "\n",
    "model_pipeline = Pipeline([\n",
    "    ('preprocessing_pipeline', preprocessing_pipeline),\n",
    "    ('model', AgglomerativeClustering(n_clusters=8))\n",
    "])\n",
    "\n",
    "model_pipeline.fit_predict(dataset)\n",
    "\n",
    "print(\"Number of clusters found:\")\n",
    "model_pipeline.named_steps['model'].labels_"
   ]
  },
  {
   "source": [
    "<h3>Density clustering"
   ],
   "cell_type": "markdown",
   "metadata": {}
  },
  {
   "cell_type": "code",
   "execution_count": 75,
   "metadata": {},
   "outputs": [
    {
     "output_type": "stream",
     "name": "stdout",
     "text": [
      "Number of clusters found:\n"
     ]
    },
    {
     "output_type": "execute_result",
     "data": {
      "text/plain": [
       "array([ 1,  1,  1,  1,  1,  1,  1,  1,  1,  1,  1,  1,  1,  1,  1,  1,  2,\n",
       "        1,  1, -1, -1,  1, -1,  1,  1, -1, -1,  1, -1, -1, -1, -1,  1,  1,\n",
       "        1,  1,  1,  1,  1, -1,  1,  1, -1,  1,  1, -1,  1, -1,  1,  1,  0,\n",
       "        1,  0,  1,  1,  1,  1,  1,  1,  1, -1,  1,  1,  1,  0,  1,  1,  1,\n",
       "       -1,  1,  1, -1,  1,  1, -1,  1,  1, -1,  1,  1,  1, -1, -1, -1,  0,\n",
       "        1, -1,  1,  1, -1,  0,  1, -1,  1,  2,  1,  2,  1,  1,  1,  1,  1,\n",
       "        2, -1,  1, -1,  1,  1, -1,  1,  0,  1, -1,  1, -1,  1,  2,  0, -1,\n",
       "        1,  1, -1], dtype=int64)"
      ]
     },
     "metadata": {},
     "execution_count": 75
    }
   ],
   "source": [
    "from sklearn.cluster import DBSCAN\n",
    "from hdbscan import HDBSCAN  # hierarchical density based spatial clustering\n",
    "\n",
    "model_pipeline = Pipeline([\n",
    "    ('preprocessing_pipeline', preprocessing_pipeline),\n",
    "    ('model', HDBSCAN(min_samples=3))\n",
    "])\n",
    "\n",
    "clusters = model_pipeline.fit(dataset)\n",
    "\n",
    "print(\"Number of clusters found:\")\n",
    "model_pipeline.named_steps['model'].labels_  # negative labels correspond to outliers"
   ]
  },
  {
   "source": [
    "<h3>Graph clustering"
   ],
   "cell_type": "markdown",
   "metadata": {}
  },
  {
   "cell_type": "code",
   "execution_count": 72,
   "metadata": {},
   "outputs": [],
   "source": [
    "from sklearn.cluster import SpectralClustering"
   ]
  }
 ]
}